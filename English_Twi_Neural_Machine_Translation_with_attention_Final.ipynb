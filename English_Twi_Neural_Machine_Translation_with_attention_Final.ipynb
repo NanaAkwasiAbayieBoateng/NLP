{
  "nbformat": 4,
  "nbformat_minor": 0,
  "metadata": {
    "colab": {
      "name": "English_Twi_Neural_Machine_Translation_with_attention_Final.ipynb",
      "provenance": [],
      "collapsed_sections": [],
      "machine_shape": "hm",
      "include_colab_link": true
    },
    "kernelspec": {
      "name": "python3",
      "display_name": "Python 3"
    }
  },
  "cells": [
    {
      "cell_type": "markdown",
      "metadata": {
        "id": "view-in-github",
        "colab_type": "text"
      },
      "source": [
        "<a href=\"https://colab.research.google.com/github/NanaAkwasiAbayieBoateng/NLP/blob/main/English_Twi_Neural_Machine_Translation_with_attention_Final.ipynb\" target=\"_parent\"><img src=\"https://colab.research.google.com/assets/colab-badge.svg\" alt=\"Open In Colab\"/></a>"
      ]
    },
    {
      "cell_type": "markdown",
      "metadata": {
        "id": "AWrBnEAtQz0M"
      },
      "source": [
        "Machine Translation (MT)\n",
        "is the task of translating a sentence x\n",
        "from one language (the source language ) to a sentence y in\n",
        "another language (the target language).\n",
        "Neural Machine Tranlaston(NMT) is a branch of natural language processing that uses deep learning models to predict the likelihood of a sequence of words in translating one language to the other. The development of some alogrithms such as Seq2Seq, Attention, Transformers etc has revolutuonalized the ability of machine learning models to translate text at a very good performance. NMT models represent words as embeddings(numeric vector representation).\n",
        "\n",
        "\n",
        "The  NMT network architecture called  sequence to sequence\n",
        "(seq2seq )  consist of  two RNNs namely the encoder and decoder networks. The encoder is a bidirectional RNN used to encode a source sentence into a fixed-length vector for a second RNN known as the decoder. The decoder is used to predict words in the target language conditioned on the encoding. The encoder–decoder system is  trained to maximize the probability of a correct translation given a source sentence.\n",
        "A draw-back of the encoder-decoder architecture is encoding long inputs into a single vector. \n",
        " The Attention mechanism alleviates  the difficulties faced by RNNs in encoding long inputs into a single vector. The Attention mechanism  allows the decoder to focus on different parts of the input while generating each word of the output.\n",
        "\n",
        "\n"
      ]
    },
    {
      "cell_type": "markdown",
      "metadata": {
        "id": "Gjv8Z5xVO9t_"
      },
      "source": [
        "\n",
        "\n",
        "\n",
        "The draw-back of using the enoder-decoder architechture comes  from the fixed-length internal representation that must be used to decode each word in the output sequence.\n",
        "\n",
        "The solution is the use of an attention mechanism that allows the model to learn where to place attention on the input sequence as each word of the output sequence is decoded.\n",
        "\n",
        "Using a fixed-sized representation to capture all the semantic details of a very long sentence  is very difficult. A more efficient approach to capture all the semantic details of a very long sentence is to read the whole sentence or paragraph , then to produce the translated words one at a time, each time focusing on a different part of the input sentence to gather the semantic details required to produce the next output word. Part of the code used here was adapted from the tensorflow website [here](https://www.tensorflow.org/tutorials/text/nmt_with_attention)\n",
        "\n",
        "\n",
        "\n"
      ]
    },
    {
      "cell_type": "code",
      "metadata": {
        "id": "JUiiLhiSpfZX"
      },
      "source": [
        "#!pip install tensorflow==2.2"
      ],
      "execution_count": null,
      "outputs": []
    },
    {
      "cell_type": "code",
      "metadata": {
        "id": "2zY7TrNFZTHH",
        "outputId": "92633687-e1a0-42d8-decc-612691b1c6d0",
        "colab": {
          "base_uri": "https://localhost:8080/",
          "height": 68
        }
      },
      "source": [
        "#specify tensorflow version to use\n",
        "#%tensorflow_version 2.x\n",
        "#load tensorboard\n",
        "#%load_ext tensorboard\n",
        " #%tensorboard --logdir logs\n",
        "import tensorflow as tf\n",
        "from __future__ import absolute_import, division, print_function, unicode_literals\n",
        "import matplotlib.pyplot as plt\n",
        "import matplotlib.ticker as ticker\n",
        "from sklearn.model_selection import train_test_split\n",
        "import unicodedata\n",
        "import re\n",
        "import numpy as np\n",
        "import pandas as pd\n",
        "import os\n",
        "import io\n",
        "import time\n",
        "# encoding=utf8\n",
        "from importlib import reload\n",
        "import sys\n",
        "reload(sys)\n",
        "import tensorflow_addons as tfa\n",
        "print(\"Tensorflow version {}\".format(tf.__version__))\n",
        "print(\"Tensorflow addon version {}\".format(tfa.__version__))\n",
        "#sys.setdefaultencoding('utf8')\n",
        "%autosave 5\n",
        "#gpu_options = tf.GPUOptions(allow_growth=True)\n",
        "#session = tf.InteractiveSession(config=tf.ConfigProto(gpu_options=gpu_options))\n",
        "#session = tf.compat.v1.GPUOptions(per_process_gpu_memory_fraction)\n",
        "#from tf.keras.layers.experimental.preprocessing import TextVectorization"
      ],
      "execution_count": null,
      "outputs": [
        {
          "output_type": "stream",
          "text": [
            "Tensorflow version 2.3.0\n",
            "Tensorflow addon version 0.8.3\n"
          ],
          "name": "stdout"
        },
        {
          "output_type": "display_data",
          "data": {
            "application/javascript": [
              "IPython.notebook.set_autosave_interval(5000)"
            ]
          },
          "metadata": {
            "tags": []
          }
        },
        {
          "output_type": "stream",
          "text": [
            "Autosaving every 5 seconds\n"
          ],
          "name": "stdout"
        }
      ]
    },
    {
      "cell_type": "code",
      "metadata": {
        "id": "Yt4BurtWjtEV"
      },
      "source": [
        "#drive.flush_and_unmount()"
      ],
      "execution_count": null,
      "outputs": []
    },
    {
      "cell_type": "code",
      "metadata": {
        "id": "CPp9jzVtY0DK",
        "outputId": "fb87fb24-8f2c-4674-ce4c-7607429db600",
        "colab": {
          "base_uri": "https://localhost:8080/",
          "height": 34
        }
      },
      "source": [
        "from google.colab import drive\n",
        "drive.mount('/content/drive')\n"
      ],
      "execution_count": null,
      "outputs": [
        {
          "output_type": "stream",
          "text": [
            "Drive already mounted at /content/drive; to attempt to forcibly remount, call drive.mount(\"/content/drive\", force_remount=True).\n"
          ],
          "name": "stdout"
        }
      ]
    },
    {
      "cell_type": "markdown",
      "metadata": {
        "id": "QHIYPDwD7H48"
      },
      "source": [
        "The parallel English to Twi JW300 dataset  can be  downloaded here [here](http://opus.nlpl.eu/JW300.php).JW300 is a parallel corpus of over 300 languages with around 100 thousand parallel sentences per language pair on average."
      ]
    },
    {
      "cell_type": "code",
      "metadata": {
        "id": "bCiCUpTpSLC7"
      },
      "source": [
        "#If you want to use the file and not have to remember to close it afterward, do this:\n",
        "\n",
        "\n",
        "with open('/content/drive/My Drive/Data/jw300.en-tw.tw', 'r') as f:\n",
        "     #Twi_data = f.readlines()\n",
        "      Twi_data= f.read().splitlines()"
      ],
      "execution_count": null,
      "outputs": []
    },
    {
      "cell_type": "code",
      "metadata": {
        "id": "AZL_76fsaerK",
        "outputId": "368d3e54-41f5-4bd1-dee7-7291428864f4",
        "colab": {
          "base_uri": "https://localhost:8080/",
          "height": 102
        }
      },
      "source": [
        "Twi_data[0:5] "
      ],
      "execution_count": null,
      "outputs": [
        {
          "output_type": "execute_result",
          "data": {
            "text/plain": [
              "['“ Oo , Yehowa , Boa Me Babea Kumaa Yi Ma Onni Nokware ! ”',\n",
              " 'WƆWOO me too abusua a wonim adwinne di mu wɔ Alsace , France , wɔ 1930 mu .',\n",
              " 'Ná Papa taa pa twere n’agua mu kenkan asase ho nsɛm anaa ewim nneɛma ho nhoma bi anwummere anwummere .',\n",
              " 'Ná me kraman da Papa nan so , na na ɔka nsɛntitiriw a epue wɔ n’akenkan no mu kyerɛ Maame bere a ɔnwene abusua no nneɛma no .',\n",
              " 'Ná m’ani gye anwummere a ɛtete saa no ho kɛse !']"
            ]
          },
          "metadata": {
            "tags": []
          },
          "execution_count": 6
        }
      ]
    },
    {
      "cell_type": "code",
      "metadata": {
        "id": "4HAkrCLGSK8y",
        "outputId": "d66e450d-e860-4f4b-bb98-a6985db63888",
        "colab": {
          "base_uri": "https://localhost:8080/",
          "height": 102
        }
      },
      "source": [
        "english_data = [line.rstrip() for line in open('/content/drive/My Drive/Data/jw300.en-tw.en')]\n",
        "english_data[0:5]"
      ],
      "execution_count": null,
      "outputs": [
        {
          "output_type": "execute_result",
          "data": {
            "text/plain": [
              "['“ Oh , Jehovah , Keep My Young Girl Faithful ! ”',\n",
              " 'I WAS born in 1930 in Alsace , France , into an artistic family .',\n",
              " 'During the evenings , Father , sitting in his lounge chair , would be reading some books about geography or astronomy .',\n",
              " 'My doggy would be sleeping by his feet , and Daddy would be sharing with Mum some highlights from his reading while she was knitting for her family .',\n",
              " 'How much I enjoyed those evenings !']"
            ]
          },
          "metadata": {
            "tags": []
          },
          "execution_count": 7
        }
      ]
    },
    {
      "cell_type": "code",
      "metadata": {
        "id": "MBUKQl74bnzK",
        "outputId": "8e70cf6b-a350-4fdc-f4d1-4d756bba520f",
        "colab": {
          "base_uri": "https://localhost:8080/",
          "height": 51
        }
      },
      "source": [
        "num_examples=10000\n",
        "print(len(english_data))\n",
        "print(len(Twi_data))"
      ],
      "execution_count": null,
      "outputs": [
        {
          "output_type": "stream",
          "text": [
            "606197\n",
            "606197\n"
          ],
          "name": "stdout"
        }
      ]
    },
    {
      "cell_type": "markdown",
      "metadata": {
        "id": "9CIOAxoOw35p"
      },
      "source": [
        "#### sequence to sequence\n",
        "A Gated Reccurrent Unit(GRU) encoder decoder model with attention mechanism will used for the translation task in this article. First, we will preprocess the data by  cleaning up the data thus  removing unwanted characters. Append $<start>$ and $<end>$ to the beginning and end of line of text. Adding  $<start>$ and an $<end>$ token to the sentence lets the model know  when to start and stop predicting.  Afterwards create  a word index and reverse word index then pad each sentence to a maximum length."
      ]
    },
    {
      "cell_type": "code",
      "metadata": {
        "id": "rd0jw-eC3jEh"
      },
      "source": [
        "def normalize_eng(s):\n",
        "    s = unicode_to_ascii(s)\n",
        "    s = re.sub(r'([!.?])', r' \\1', s)\n",
        "    s = re.sub(r'[^a-zA-Z.!?]+', r' ', s)\n",
        "    s = re.sub(r'\\s+', r' ', s)\n",
        "    return s\n",
        "\n",
        "def normalize_twi(s):\n",
        "    s = unicode_to_ascii(s)\n",
        "    s = re.sub(r'([!.?])', r' \\1', s)\n",
        "    s = re.sub(r'[^a-zA-Z.ƆɔɛƐ!?’]+', r' ', s)\n",
        "    s = re.sub(r'\\s+', r' ', s)\n",
        "    return s\n",
        "\n",
        "\n",
        "# Converts the unicode file to ascii\n",
        "def unicode_to_ascii(s):\n",
        "  return ''.join(c for c in unicodedata.normalize('NFD', s)\n",
        "      if unicodedata.category(c) != 'Mn')\n",
        "\n",
        "\n",
        "def preprocess_sentence_english(w):\n",
        "  w = unicode_to_ascii(w.lower().strip())\n",
        "\n",
        "  # creating a space between a word and the punctuation following it\n",
        "  # eg: \"he is a boy.\" => \"he is a boy .\"\n",
        "  # Reference:- https://stackoverflow.com/questions/3645931/python-padding-punctuation-with-white-spaces-keeping-punctuation\n",
        "  w = re.sub(r\"([?.!,¿])\", r\" \\1 \", w)\n",
        "  w = re.sub(r'[\" \"]+', \" \", w)\n",
        "\n",
        "  # replacing everything with space except (a-z, A-Z, \".\", \"?\", \"!\", \",\")\n",
        "  w = re.sub(r\"[^a-zA-Z?.!,¿]+\", \" \", w)\n",
        "  #w = re.sub(r'[^Ɔ-ɔɛƐ]+', r' ', w)\n",
        "  #strip() Parameters\n",
        "  #chars (optional) - a string specifying the set of characters to be removed.\n",
        "  #If the chars argument is not provided, all leading and trailing whitespaces are removed from the string.\n",
        "  w = w.rstrip().strip()\n",
        "\n",
        "  # adding a start and an end token to the sentence\n",
        "  # so that the model know when to start and stop predicting.\n",
        "  w = '<start> ' + w + ' <end>'\n",
        "  return w\n",
        "\n",
        "\n",
        "\n",
        "\n",
        "  \n",
        "def preprocess_sentence_twi(w):\n",
        "  w = unicode_to_ascii(w.lower().strip())\n",
        "\n",
        "  # creating a space between a word and the punctuation following it\n",
        "  # eg: \"he is a boy.\" => \"he is a boy .\"\n",
        "  # Reference:- https://stackoverflow.com/questions/3645931/python-padding-punctuation-with-white-spaces-keeping-punctuation\n",
        "  w = re.sub(r\"([?.!,¿])\", r\" \\1 \", w)\n",
        "  w = re.sub(r'[\" \"]+', \" \", w)\n",
        "\n",
        "  # replacing everything with space except (a-z, A-Z, \".\", \"?\", \"!\", \",\")\n",
        "  w = re.sub(r\"[^a-zA-ZɛƐɔƆ?.!,¿]+\", \" \", w)\n",
        "  #w = re.sub(r'[^Ɔ-ɔɛƐ]+', r' ', w)\n",
        "  #strip() Parameters\n",
        "  #chars (optional) - a string specifying the set of characters to be removed.\n",
        "  #If the chars argument is not provided, all leading and trailing whitespaces are removed from the string.\n",
        "  w = w.rstrip().strip()\n",
        "\n",
        "  # adding a start and an end token to the sentence\n",
        "  # so that the model know when to start and stop predicting.\n",
        "  w = '<start> ' + w + ' <end>'\n",
        "  return w"
      ],
      "execution_count": null,
      "outputs": []
    },
    {
      "cell_type": "code",
      "metadata": {
        "id": "UkLhlUiChXtN",
        "outputId": "dfb28444-cc3c-4ca1-b590-1547c3265fc1",
        "colab": {
          "base_uri": "https://localhost:8080/",
          "height": 122
        }
      },
      "source": [
        "#type(english_data)\n",
        "\n",
        "english_d  = list(map(preprocess_sentence_english,english_data))\n",
        "english_d[0:5]"
      ],
      "execution_count": null,
      "outputs": [
        {
          "output_type": "execute_result",
          "data": {
            "text/plain": [
              "['<start> oh , jehovah , keep my young girl faithful ! <end>',\n",
              " '<start> i was born in in alsace , france , into an artistic family . <end>',\n",
              " '<start> during the evenings , father , sitting in his lounge chair , would be reading some books about geography or astronomy . <end>',\n",
              " '<start> my doggy would be sleeping by his feet , and daddy would be sharing with mum some highlights from his reading while she was knitting for her family . <end>',\n",
              " '<start> how much i enjoyed those evenings ! <end>']"
            ]
          },
          "metadata": {
            "tags": []
          },
          "execution_count": 11
        }
      ]
    },
    {
      "cell_type": "code",
      "metadata": {
        "id": "NJw9rV8AwQ3U",
        "outputId": "102c5a9a-16f9-4c2e-c297-acc5f44090bc",
        "colab": {
          "base_uri": "https://localhost:8080/",
          "height": 102
        }
      },
      "source": [
        "twi_d  = list(map(preprocess_sentence_twi,Twi_data))\n",
        "twi_d[0:5]"
      ],
      "execution_count": null,
      "outputs": [
        {
          "output_type": "execute_result",
          "data": {
            "text/plain": [
              "['<start> oo , yehowa , boa me babea kumaa yi ma onni nokware ! <end>',\n",
              " '<start> wɔwoo me too abusua a wonim adwinne di mu wɔ alsace , france , wɔ mu . <end>',\n",
              " '<start> na papa taa pa twere n agua mu kenkan asase ho nsɛm anaa ewim nneɛma ho nhoma bi anwummere anwummere . <end>',\n",
              " '<start> na me kraman da papa nan so , na na ɔka nsɛntitiriw a epue wɔ n akenkan no mu kyerɛ maame bere a ɔnwene abusua no nneɛma no . <end>',\n",
              " '<start> na m ani gye anwummere a ɛtete saa no ho kɛse ! <end>']"
            ]
          },
          "metadata": {
            "tags": []
          },
          "execution_count": 12
        }
      ]
    },
    {
      "cell_type": "markdown",
      "metadata": {
        "id": "Q_OuZXEEHoma"
      },
      "source": [
        "To speed up the training time and reduce memory and computation time, I will limit the data to sentence pairs with maximum length less than 40 and select about 10000 pairs of the resulting data for training.This will reduce the performance of the model, if you have access to more compuational resources you can train on a lot more  dataset which would greatly improve the model performance."
      ]
    },
    {
      "cell_type": "code",
      "metadata": {
        "id": "N2DRNrMx_WTT",
        "outputId": "2cdc9991-f544-4563-8d59-47ba8591746f",
        "colab": {
          "base_uri": "https://localhost:8080/",
          "height": 359
        }
      },
      "source": [
        "# reduce the data to lines with length <= 40\n",
        "max_length = 40\n",
        "seq_length= [len(word) for word in english_d]\n",
        "d= pd.DataFrame({\"English\":english_d,\"Twi\":twi_d,\"seq_length\":seq_length}).query('seq_length <= 40 and seq_length > 17')\n",
        "d.head(10)"
      ],
      "execution_count": null,
      "outputs": [
        {
          "output_type": "execute_result",
          "data": {
            "text/html": [
              "<div>\n",
              "<style scoped>\n",
              "    .dataframe tbody tr th:only-of-type {\n",
              "        vertical-align: middle;\n",
              "    }\n",
              "\n",
              "    .dataframe tbody tr th {\n",
              "        vertical-align: top;\n",
              "    }\n",
              "\n",
              "    .dataframe thead th {\n",
              "        text-align: right;\n",
              "    }\n",
              "</style>\n",
              "<table border=\"1\" class=\"dataframe\">\n",
              "  <thead>\n",
              "    <tr style=\"text-align: right;\">\n",
              "      <th></th>\n",
              "      <th>English</th>\n",
              "      <th>Twi</th>\n",
              "      <th>seq_length</th>\n",
              "    </tr>\n",
              "  </thead>\n",
              "  <tbody>\n",
              "    <tr>\n",
              "      <th>12</th>\n",
              "      <td>&lt;start&gt; dad was upset about that . &lt;end&gt;</td>\n",
              "      <td>&lt;start&gt; eyi haw me papa . &lt;end&gt;</td>\n",
              "      <td>40</td>\n",
              "    </tr>\n",
              "    <tr>\n",
              "      <th>14</th>\n",
              "      <td>&lt;start&gt; no reading of that stuff ! &lt;end&gt;</td>\n",
              "      <td>&lt;start&gt; monnkenkan saa nhoma a mfaso biara nni...</td>\n",
              "      <td>40</td>\n",
              "    </tr>\n",
              "    <tr>\n",
              "      <th>24</th>\n",
              "      <td>&lt;start&gt; that was in . &lt;end&gt;</td>\n",
              "      <td>&lt;start&gt; na eyi yɛ . &lt;end&gt;</td>\n",
              "      <td>27</td>\n",
              "    </tr>\n",
              "    <tr>\n",
              "      <th>44</th>\n",
              "      <td>&lt;start&gt; persecution at school &lt;end&gt;</td>\n",
              "      <td>&lt;start&gt; sukuu ɔtae &lt;end&gt;</td>\n",
              "      <td>35</td>\n",
              "    </tr>\n",
              "    <tr>\n",
              "      <th>69</th>\n",
              "      <td>&lt;start&gt; underground activity &lt;end&gt;</td>\n",
              "      <td>&lt;start&gt; esum ase adwumayɛ &lt;end&gt;</td>\n",
              "      <td>34</td>\n",
              "    </tr>\n",
              "    <tr>\n",
              "      <th>107</th>\n",
              "      <td>&lt;start&gt; i was put in the middle . &lt;end&gt;</td>\n",
              "      <td>&lt;start&gt; wɔde me kogyinaa mfinimfini . &lt;end&gt;</td>\n",
              "      <td>39</td>\n",
              "    </tr>\n",
              "    <tr>\n",
              "      <th>117</th>\n",
              "      <td>&lt;start&gt; never be obstinate . &lt;end&gt;</td>\n",
              "      <td>&lt;start&gt; nsene wo kɔn da . &lt;end&gt;</td>\n",
              "      <td>34</td>\n",
              "    </tr>\n",
              "    <tr>\n",
              "      <th>124</th>\n",
              "      <td>&lt;start&gt; you are a young lady now . &lt;end&gt;</td>\n",
              "      <td>&lt;start&gt; woyɛ ababaa mprempren . &lt;end&gt;</td>\n",
              "      <td>40</td>\n",
              "    </tr>\n",
              "    <tr>\n",
              "      <th>141</th>\n",
              "      <td>&lt;start&gt; i began to cry again . &lt;end&gt;</td>\n",
              "      <td>&lt;start&gt; mifii ase sui bio . &lt;end&gt;</td>\n",
              "      <td>36</td>\n",
              "    </tr>\n",
              "    <tr>\n",
              "      <th>161</th>\n",
              "      <td>&lt;start&gt; there was no playtime . &lt;end&gt;</td>\n",
              "      <td>&lt;start&gt; na yenni bere a yɛde di agoru . &lt;end&gt;</td>\n",
              "      <td>37</td>\n",
              "    </tr>\n",
              "  </tbody>\n",
              "</table>\n",
              "</div>"
            ],
            "text/plain": [
              "                                      English  ... seq_length\n",
              "12   <start> dad was upset about that . <end>  ...         40\n",
              "14   <start> no reading of that stuff ! <end>  ...         40\n",
              "24                <start> that was in . <end>  ...         27\n",
              "44        <start> persecution at school <end>  ...         35\n",
              "69         <start> underground activity <end>  ...         34\n",
              "107   <start> i was put in the middle . <end>  ...         39\n",
              "117        <start> never be obstinate . <end>  ...         34\n",
              "124  <start> you are a young lady now . <end>  ...         40\n",
              "141      <start> i began to cry again . <end>  ...         36\n",
              "161     <start> there was no playtime . <end>  ...         37\n",
              "\n",
              "[10 rows x 3 columns]"
            ]
          },
          "metadata": {
            "tags": []
          },
          "execution_count": 14
        }
      ]
    },
    {
      "cell_type": "code",
      "metadata": {
        "id": "atyXiJpTLyHu",
        "outputId": "5b9b4338-454d-47ba-9ea2-f6cb5f62d5db",
        "colab": {
          "base_uri": "https://localhost:8080/",
          "height": 204
        }
      },
      "source": [
        "d.tail()"
      ],
      "execution_count": null,
      "outputs": [
        {
          "output_type": "execute_result",
          "data": {
            "text/html": [
              "<div>\n",
              "<style scoped>\n",
              "    .dataframe tbody tr th:only-of-type {\n",
              "        vertical-align: middle;\n",
              "    }\n",
              "\n",
              "    .dataframe tbody tr th {\n",
              "        vertical-align: top;\n",
              "    }\n",
              "\n",
              "    .dataframe thead th {\n",
              "        text-align: right;\n",
              "    }\n",
              "</style>\n",
              "<table border=\"1\" class=\"dataframe\">\n",
              "  <thead>\n",
              "    <tr style=\"text-align: right;\">\n",
              "      <th></th>\n",
              "      <th>English</th>\n",
              "      <th>Twi</th>\n",
              "      <th>seq_length</th>\n",
              "    </tr>\n",
              "  </thead>\n",
              "  <tbody>\n",
              "    <tr>\n",
              "      <th>606124</th>\n",
              "      <td>&lt;start&gt; pride . &lt;end&gt;</td>\n",
              "      <td>&lt;start&gt; ahantan . &lt;end&gt;</td>\n",
              "      <td>21</td>\n",
              "    </tr>\n",
              "    <tr>\n",
              "      <th>606161</th>\n",
              "      <td>&lt;start&gt; see opening picture . &lt;end&gt;</td>\n",
              "      <td>&lt;start&gt; hwɛ mfonini a ɛwɔ adesua yi mfiase no ...</td>\n",
              "      <td>35</td>\n",
              "    </tr>\n",
              "    <tr>\n",
              "      <th>606165</th>\n",
              "      <td>&lt;start&gt; read daniel . &lt;end&gt;</td>\n",
              "      <td>&lt;start&gt; kenkan daniel . &lt;end&gt;</td>\n",
              "      <td>27</td>\n",
              "    </tr>\n",
              "    <tr>\n",
              "      <th>606169</th>\n",
              "      <td>&lt;start&gt; he said take courage ! &lt;end&gt;</td>\n",
              "      <td>&lt;start&gt; ɔkae sɛ momma mo bo ntɔ mo yam ! &lt;end&gt;</td>\n",
              "      <td>36</td>\n",
              "    </tr>\n",
              "    <tr>\n",
              "      <th>606183</th>\n",
              "      <td>&lt;start&gt; ask them to pray for you . &lt;end&gt;</td>\n",
              "      <td>&lt;start&gt; ka kyerɛ wɔn sɛ wɔmmɔ mpae mma wo . &lt;end&gt;</td>\n",
              "      <td>40</td>\n",
              "    </tr>\n",
              "  </tbody>\n",
              "</table>\n",
              "</div>"
            ],
            "text/plain": [
              "                                         English  ... seq_length\n",
              "606124                     <start> pride . <end>  ...         21\n",
              "606161       <start> see opening picture . <end>  ...         35\n",
              "606165               <start> read daniel . <end>  ...         27\n",
              "606169      <start> he said take courage ! <end>  ...         36\n",
              "606183  <start> ask them to pray for you . <end>  ...         40\n",
              "\n",
              "[5 rows x 3 columns]"
            ]
          },
          "metadata": {
            "tags": []
          },
          "execution_count": 15
        }
      ]
    },
    {
      "cell_type": "code",
      "metadata": {
        "id": "CR5_oNmZDoBS",
        "outputId": "ca048b33-8166-433c-fdcb-d9452deebc12",
        "colab": {
          "base_uri": "https://localhost:8080/",
          "height": 34
        }
      },
      "source": [
        "d1 = d.iloc[:10000,0:2]\n",
        "English_d = d1.English.tolist()\n",
        "Twi_d  = d1.Twi.tolist()\n",
        "print('shape of data {}'.format(d1.shape))"
      ],
      "execution_count": null,
      "outputs": [
        {
          "output_type": "stream",
          "text": [
            "shape of data (10000, 2)\n"
          ],
          "name": "stdout"
        }
      ]
    },
    {
      "cell_type": "markdown",
      "metadata": {
        "id": "kPCNJPRCHJkY"
      },
      "source": [
        "The create_dataset_eng  and create_dataset_twi are used in preprocessing the english and twi dataset respectively. There is special characters in the twi dataset that need to be preserved, using the same preprocessing function for both languages will remove such characters."
      ]
    },
    {
      "cell_type": "code",
      "metadata": {
        "id": "BSwJEOpTsTNq"
      },
      "source": [
        "def create_dataset_eng(path, num_examples):\n",
        "  lines = io.open(path, encoding='UTF-8').read().strip().split('\\n')\n",
        "\n",
        "  word_pairs = [[preprocess_sentence_english(w) for w in l.split('\\t')]  for l in lines[:num_examples]]\n",
        "\n",
        "  return zip(*word_pairs)"
      ],
      "execution_count": null,
      "outputs": []
    },
    {
      "cell_type": "code",
      "metadata": {
        "id": "qPoajtCJtd7l"
      },
      "source": [
        "#encoding = ‘utf-8-sig’ is added to overcome the issue when exporting ‘Non-English’ languages.\n",
        "def create_dataset_twi(path, num_examples):\n",
        "  lines = io.open(path, encoding='utf-8-sig').read().strip().split('\\n')\n",
        "\n",
        "  word_pairs = [[preprocess_sentence_twi(w) for w in l.split('\\t')]  for l in lines[:num_examples]]\n",
        "\n",
        "  return zip(*word_pairs)"
      ],
      "execution_count": null,
      "outputs": []
    },
    {
      "cell_type": "code",
      "metadata": {
        "id": "OmMZQpdO60dt"
      },
      "source": [
        "def max_length(tensor):\n",
        "  return max(len(t) for t in tensor)"
      ],
      "execution_count": null,
      "outputs": []
    },
    {
      "cell_type": "code",
      "metadata": {
        "id": "bIOn8RCNDJXG"
      },
      "source": [
        "def tokenize(lang):\n",
        "  lang_tokenizer = tf.keras.preprocessing.text.Tokenizer(\n",
        "      filters='')\n",
        "  lang_tokenizer.fit_on_texts(lang)\n",
        "\n",
        "  tensor = lang_tokenizer.texts_to_sequences(lang)\n",
        "\n",
        "  tensor = tf.keras.preprocessing.sequence.pad_sequences(tensor,\n",
        "                                                         padding='post')\n",
        "\n",
        "  return tensor, lang_tokenizer"
      ],
      "execution_count": null,
      "outputs": []
    },
    {
      "cell_type": "code",
      "metadata": {
        "id": "VAMb7gF8eOf5"
      },
      "source": [
        "def load_data( num_examples=None):\n",
        "  # creating cleaned input, output pairs\n",
        "  targ_lang  = English_d[0:num_examples]\n",
        "  inp_lang =   Twi_d[0:num_examples]\n",
        "\n",
        "  input_tensor, inp_lang_tokenizer = tokenize(inp_lang)\n",
        "  target_tensor, targ_lang_tokenizer = tokenize(targ_lang)\n",
        "\n",
        "  return input_tensor, target_tensor, inp_lang_tokenizer, targ_lang_tokenizer"
      ],
      "execution_count": null,
      "outputs": []
    },
    {
      "cell_type": "code",
      "metadata": {
        "id": "ld1b5ps7yy9L"
      },
      "source": [
        "# Try experimenting with the size of that dataset\n",
        "num_examples = 10000\n",
        "input_tensor, target_tensor, inp_lang, targ_lang = load_data( num_examples)\n",
        "\n",
        "# Calculate max_length of the target tensors\n",
        "max_length_targ, max_length_inp = max_length(target_tensor), max_length(input_tensor)"
      ],
      "execution_count": null,
      "outputs": []
    },
    {
      "cell_type": "code",
      "metadata": {
        "id": "tQKYLwl0Gh5V",
        "outputId": "01a441ac-a7d2-4212-dbc1-1ee4689eab13",
        "colab": {
          "base_uri": "https://localhost:8080/",
          "height": 51
        }
      },
      "source": [
        "print(max_length_targ)\n",
        "print(max_length_inp)"
      ],
      "execution_count": null,
      "outputs": [
        {
          "output_type": "stream",
          "text": [
            "12\n",
            "46\n"
          ],
          "name": "stdout"
        }
      ]
    },
    {
      "cell_type": "code",
      "metadata": {
        "id": "Ary6bwnA4dQc",
        "outputId": "b64d575b-0f07-42d7-d606-6358f831dbb4",
        "colab": {
          "base_uri": "https://localhost:8080/",
          "height": 34
        }
      },
      "source": [
        "# Creating training and validation sets using an 80-20 split\n",
        "input_tensor_train, input_tensor_val, target_tensor_train, target_tensor_val = train_test_split(input_tensor, target_tensor, test_size=0.2)\n",
        "\n",
        "# Show length\n",
        "print(len(input_tensor_train), len(target_tensor_train), len(input_tensor_val), len(target_tensor_val))"
      ],
      "execution_count": null,
      "outputs": [
        {
          "output_type": "stream",
          "text": [
            "8000 8000 2000 2000\n"
          ],
          "name": "stdout"
        }
      ]
    },
    {
      "cell_type": "code",
      "metadata": {
        "id": "lJPmLZGMeD5q"
      },
      "source": [
        "def convert(lang, tensor):\n",
        "  for t in tensor:\n",
        "    if t!=0:\n",
        "      print (\"%d ----> %s\" % (t, lang.index_word[t]))"
      ],
      "execution_count": null,
      "outputs": []
    },
    {
      "cell_type": "code",
      "metadata": {
        "id": "VXukARTDd7MT",
        "outputId": "de543564-d659-4010-c003-762249b8a818",
        "colab": {
          "base_uri": "https://localhost:8080/",
          "height": 221
        }
      },
      "source": [
        "print (\"Input Language; index to word mapping\")\n",
        "convert(inp_lang, input_tensor_train[0])\n",
        "print ()\n",
        "print (\"Target Language; index to word mapping\")\n",
        "convert(targ_lang, target_tensor_train[0])"
      ],
      "execution_count": null,
      "outputs": [
        {
          "output_type": "stream",
          "text": [
            "Input Language; index to word mapping\n",
            "1 ----> <start>\n",
            "5 ----> kratafa\n",
            "8 ----> mfonini\n",
            "2 ----> <end>\n",
            "\n",
            "Target Language; index to word mapping\n",
            "1 ----> <start>\n",
            "9 ----> picture\n",
            "6 ----> on\n",
            "5 ----> page\n",
            "2 ----> <end>\n"
          ],
          "name": "stdout"
        }
      ]
    },
    {
      "cell_type": "markdown",
      "metadata": {
        "id": "rgCLkfv5uO3d"
      },
      "source": [
        "### Create a tf.data dataset"
      ]
    },
    {
      "cell_type": "code",
      "metadata": {
        "id": "7VzoFXxOv5oX"
      },
      "source": [
        "BUFFER_SIZE = len(input_tensor_train)\n",
        "BATCH_SIZE = 64\n",
        "steps_per_epoch = len(input_tensor_train)//BATCH_SIZE\n",
        "embedding_dim = 256\n",
        "units = 1024\n",
        "vocab_inp_size = len(inp_lang.word_index)+1\n",
        "vocab_tar_size = len(targ_lang.word_index)+1\n",
        "\n",
        "dataset = tf.data.Dataset.from_tensor_slices((input_tensor_train, target_tensor_train)).shuffle(BUFFER_SIZE)\n",
        "dataset = dataset.batch(BATCH_SIZE, drop_remainder=True)"
      ],
      "execution_count": null,
      "outputs": []
    },
    {
      "cell_type": "code",
      "metadata": {
        "id": "l239jW8Q_P-x",
        "outputId": "0962f72c-d3f6-4dc2-ff67-b19a6c6179b7",
        "colab": {
          "base_uri": "https://localhost:8080/",
          "height": 85
        }
      },
      "source": [
        "print(BUFFER_SIZE)\n",
        "print(steps_per_epoch)\n",
        "print(vocab_inp_size)\n",
        "print(vocab_tar_size)"
      ],
      "execution_count": null,
      "outputs": [
        {
          "output_type": "stream",
          "text": [
            "8000\n",
            "125\n",
            "4465\n",
            "5273\n"
          ],
          "name": "stdout"
        }
      ]
    },
    {
      "cell_type": "markdown",
      "metadata": {
        "id": "xNLqJl00AQ28"
      },
      "source": [
        "#### Configure the dataset for performance\n",
        "Let's make sure to use buffered prefetching so we can yield data from disk without having I/O becoming blocking:"
      ]
    },
    {
      "cell_type": "code",
      "metadata": {
        "id": "4k7XJZ9H_7O1"
      },
      "source": [
        "#dataset_ds = dataset.cache().prefetch(buffer_size=BUFFER_SIZE)\n",
        "dataset_ds = dataset.cache().prefetch(buffer_size=BUFFER_SIZE)\n",
        "#train_ds = train_ds.cache().prefetch(buffer_size=AUTOTUNE)\n",
        "#val_ds = val_ds.cache().prefetch(buffer_size=)\n",
        "#AUTOTUNE = tf.data.experimental.AUTOTUNE\n",
        "\n",
        "#train_ds = train_ds.cache().batch(batch_size).prefetch(buffer_size=AUTOTUNE)\n",
        "#val_ds = val_ds.cache().batch(batch_size).prefetch(buffer_size=AUTOTUNE)\n",
        "\n",
        "#train_ds = train_ds.cache().prefetch(buffer_size=32)\n",
        "#val_ds = val_ds.prefetch(buffer_size=32)\n",
        "\n",
        "#train_ds = train_ds.cache().prefetch(buffer_size=AUTOTUNE)\n",
        "#val_ds = val_ds.cache().prefetch(buffer_size=AUTOTUNE)\n"
      ],
      "execution_count": null,
      "outputs": []
    },
    {
      "cell_type": "markdown",
      "metadata": {
        "id": "bjMxQNsbPF7w"
      },
      "source": [
        "## Write the encoder and decoder model\n",
        "\n",
        "Implement an encoder-decoder model with attention which you can read about in the TensorFlow [Neural Machine Translation (seq2seq) tutorial](https://github.com/tensorflow/nmt). This example uses a more recent set of APIs. This notebook implements the [attention equations](https://github.com/tensorflow/nmt#background-on-the-attention-mechanism) from the seq2seq tutorial. The following diagram shows that each input words is assigned a weight by the attention mechanism which is then used by the decoder to predict the next word in the sentence. The below picture and formulas are an example of attention mechanism from [Luong's paper](https://arxiv.org/abs/1508.04025v5). \n",
        "\n",
        "<img src=\"https://www.tensorflow.org/images/seq2seq/attention_mechanism.jpg\" width=\"500\" alt=\"attention mechanism\">\n",
        "\n",
        "The input is put through an encoder model which gives us the encoder output of shape *(batch_size, max_length, hidden_size)* and the encoder hidden state of shape *(batch_size, hidden_size)*.\n",
        "\n",
        "Here are the equations that are implemented:\n",
        "\n",
        "<img src=\"https://www.tensorflow.org/images/seq2seq/attention_equation_0.jpg\" alt=\"attention equation 0\" width=\"800\">\n",
        "<img src=\"https://www.tensorflow.org/images/seq2seq/attention_equation_1.jpg\" alt=\"attention equation 1\" width=\"800\">\n",
        "\n",
        "This tutorial uses [Bahdanau attention](https://arxiv.org/pdf/1409.0473.pdf) for the encoder. Let's decide on notation before writing the simplified form:\n",
        "\n",
        "* FC = Fully connected (dense) layer\n",
        "* EO = Encoder output\n",
        "* H = hidden state\n",
        "* X = input to the decoder\n",
        "\n",
        "And the pseudo-code:\n",
        "\n",
        "* `score = FC(tanh(FC(EO) + FC(H)))`\n",
        "* `attention weights = softmax(score, axis = 1)`. Softmax by default is applied on the last axis but here we want to apply it on the *1st axis*, since the shape of score is *(batch_size, max_length, hidden_size)*. `Max_length` is the length of our input. Since we are trying to assign a weight to each input, softmax should be applied on that axis.\n",
        "* `context vector = sum(attention weights * EO, axis = 1)`. Same reason as above for choosing axis as 1.\n",
        "* `embedding output` = The input to the decoder X is passed through an embedding layer.\n",
        "* `merged vector = concat(embedding output, context vector)`\n",
        "* This merged vector is then given to the GRU\n",
        "\n",
        "The shapes of all the vectors at each step have been specified in the comments in the code:"
      ]
    },
    {
      "cell_type": "code",
      "metadata": {
        "id": "nZ2rI24i3jFg"
      },
      "source": [
        "class Encoder(tf.keras.Model):\n",
        "  def __init__(self, vocab_size, embedding_dim, enc_units, batch_sz):\n",
        "    super(Encoder, self).__init__()\n",
        "    self.batch_sz = batch_sz\n",
        "    self.enc_units = enc_units\n",
        "    self.embedding = tf.keras.layers.Embedding(vocab_size, embedding_dim)\n",
        "    self.gru = tf.keras.layers.GRU(self.enc_units,\n",
        "                                   return_sequences=True,\n",
        "                                   return_state=True,\n",
        "                                   recurrent_initializer='glorot_uniform')\n",
        "\n",
        "  def call(self, x, hidden):\n",
        "    x = self.embedding(x)\n",
        "    output, state = self.gru(x, initial_state = hidden)\n",
        "    return output, state\n",
        "\n",
        "  def initialize_hidden_state(self):\n",
        "    return tf.zeros((self.batch_sz, self.enc_units))"
      ],
      "execution_count": null,
      "outputs": []
    },
    {
      "cell_type": "code",
      "metadata": {
        "id": "FQdZ6h9MsfcU",
        "outputId": "9a099019-1c2c-4941-c323-f50f5ca3a08b",
        "colab": {
          "base_uri": "https://localhost:8080/",
          "height": 34
        }
      },
      "source": [
        "example_input_batch, example_target_batch = next(iter(dataset))\n",
        "example_input_batch.shape, example_target_batch.shape"
      ],
      "execution_count": null,
      "outputs": [
        {
          "output_type": "execute_result",
          "data": {
            "text/plain": [
              "(TensorShape([64, 46]), TensorShape([64, 12]))"
            ]
          },
          "metadata": {
            "tags": []
          },
          "execution_count": 57
        }
      ]
    },
    {
      "cell_type": "code",
      "metadata": {
        "id": "60gSVh05Jl6l",
        "outputId": "06d58396-403f-46ad-98df-4c71aa118b82",
        "colab": {
          "base_uri": "https://localhost:8080/",
          "height": 51
        }
      },
      "source": [
        "encoder = Encoder(vocab_inp_size, embedding_dim, units, BATCH_SIZE)\n",
        "\n",
        "# sample input\n",
        "sample_hidden = encoder.initialize_hidden_state()\n",
        "sample_output, sample_hidden = encoder(example_input_batch, sample_hidden)\n",
        "print ('Encoder output shape: (batch size, sequence length, units) {}'.format(sample_output.shape))\n",
        "print ('Encoder Hidden state shape: (batch size, units) {}'.format(sample_hidden.shape))"
      ],
      "execution_count": null,
      "outputs": [
        {
          "output_type": "stream",
          "text": [
            "Encoder output shape: (batch size, sequence length, units) (64, 46, 1024)\n",
            "Encoder Hidden state shape: (batch size, units) (64, 1024)\n"
          ],
          "name": "stdout"
        }
      ]
    },
    {
      "cell_type": "code",
      "metadata": {
        "id": "umohpBN2OM94"
      },
      "source": [
        "class BahdanauAttention(tf.keras.layers.Layer):\n",
        "  def __init__(self, units):\n",
        "    super(BahdanauAttention, self).__init__()\n",
        "    self.W1 = tf.keras.layers.Dense(units)\n",
        "    self.W2 = tf.keras.layers.Dense(units)\n",
        "    self.V = tf.keras.layers.Dense(1)\n",
        "\n",
        "  def call(self, query, values):\n",
        "    # hidden shape == (batch_size, hidden size)\n",
        "    # hidden_with_time_axis shape == (batch_size, 1, hidden size)\n",
        "    # we are doing this to perform addition to calculate the score\n",
        "    hidden_with_time_axis = tf.expand_dims(query, 1)\n",
        "\n",
        "    # score shape == (batch_size, max_length, 1)\n",
        "    # we get 1 at the last axis because we are applying score to self.V\n",
        "    # the shape of the tensor before applying self.V is (batch_size, max_length, units)\n",
        "    score = self.V(tf.nn.tanh(\n",
        "        self.W1(values) + self.W2(hidden_with_time_axis)))\n",
        "\n",
        "    # attention_weights shape == (batch_size, max_length, 1)\n",
        "    attention_weights = tf.nn.softmax(score, axis=1)\n",
        "\n",
        "    # context_vector shape after sum == (batch_size, hidden_size)\n",
        "    context_vector = attention_weights * values\n",
        "    context_vector = tf.reduce_sum(context_vector, axis=1)\n",
        "\n",
        "    return context_vector, attention_weights"
      ],
      "execution_count": null,
      "outputs": []
    },
    {
      "cell_type": "code",
      "metadata": {
        "id": "k534zTHiDjQU",
        "outputId": "e3ec9573-c2f9-4f4f-b033-055224fc3afb",
        "colab": {
          "base_uri": "https://localhost:8080/",
          "height": 51
        }
      },
      "source": [
        "attention_layer = BahdanauAttention(10)\n",
        "attention_result, attention_weights = attention_layer(sample_hidden, sample_output)\n",
        "\n",
        "print(\"Attention result shape: (batch size, units) {}\".format(attention_result.shape))\n",
        "print(\"Attention weights shape: (batch_size, sequence_length, 1) {}\".format(attention_weights.shape))"
      ],
      "execution_count": null,
      "outputs": [
        {
          "output_type": "stream",
          "text": [
            "Attention result shape: (batch size, units) (64, 1024)\n",
            "Attention weights shape: (batch_size, sequence_length, 1) (64, 46, 1)\n"
          ],
          "name": "stdout"
        }
      ]
    },
    {
      "cell_type": "code",
      "metadata": {
        "id": "yJ_B3mhW3jFk"
      },
      "source": [
        "class Decoder(tf.keras.Model):\n",
        "  def __init__(self, vocab_size, embedding_dim, dec_units, batch_sz):\n",
        "    super(Decoder, self).__init__()\n",
        "    self.batch_sz = batch_sz\n",
        "    self.dec_units = dec_units\n",
        "    self.embedding = tf.keras.layers.Embedding(vocab_size, embedding_dim)\n",
        "    self.gru = tf.keras.layers.GRU(self.dec_units,\n",
        "                                   return_sequences=True,\n",
        "                                   return_state=True,\n",
        "                                   recurrent_initializer='glorot_uniform')\n",
        "    self.fc = tf.keras.layers.Dense(vocab_size)\n",
        "\n",
        "    # used for attention\n",
        "    self.attention = BahdanauAttention(self.dec_units)\n",
        "\n",
        "  def call(self, x, hidden, enc_output):\n",
        "    # enc_output shape == (batch_size, max_length, hidden_size)\n",
        "    context_vector, attention_weights = self.attention(hidden, enc_output)\n",
        "\n",
        "    # x shape after passing through embedding == (batch_size, 1, embedding_dim)\n",
        "    x = self.embedding(x)\n",
        "\n",
        "    # x shape after concatenation == (batch_size, 1, embedding_dim + hidden_size)\n",
        "    x = tf.concat([tf.expand_dims(context_vector, 1), x], axis=-1)\n",
        "\n",
        "    # passing the concatenated vector to the GRU\n",
        "    output, state = self.gru(x)\n",
        "\n",
        "    # output shape == (batch_size * 1, hidden_size)\n",
        "    output = tf.reshape(output, (-1, output.shape[2]))\n",
        "\n",
        "    # output shape == (batch_size, vocab)\n",
        "    x = self.fc(output)\n",
        "\n",
        "    return x, state, attention_weights"
      ],
      "execution_count": null,
      "outputs": []
    },
    {
      "cell_type": "code",
      "metadata": {
        "id": "P5UY8wko3jFp",
        "outputId": "60ba4b66-ce75-471f-a813-63e970938195",
        "colab": {
          "base_uri": "https://localhost:8080/",
          "height": 34
        }
      },
      "source": [
        "decoder = Decoder(vocab_tar_size, embedding_dim, units, BATCH_SIZE)\n",
        "\n",
        "sample_decoder_output, _, _ = decoder(tf.random.uniform((BATCH_SIZE, 1)),\n",
        "                                      sample_hidden, sample_output)\n",
        "\n",
        "print ('Decoder output shape: (batch_size, vocab size) {}'.format(sample_decoder_output.shape))"
      ],
      "execution_count": null,
      "outputs": [
        {
          "output_type": "stream",
          "text": [
            "Decoder output shape: (batch_size, vocab size) (64, 5273)\n"
          ],
          "name": "stdout"
        }
      ]
    },
    {
      "cell_type": "markdown",
      "metadata": {
        "id": "_ch_71VbIRfK"
      },
      "source": [
        "## Define the optimizer and the loss function"
      ]
    },
    {
      "cell_type": "code",
      "metadata": {
        "id": "WmTHr5iV3jFr"
      },
      "source": [
        "optimizer = tf.keras.optimizers.Adam(1e-3)\n",
        "loss_object = tf.keras.losses.SparseCategoricalCrossentropy(\n",
        "    from_logits=True, reduction='none')\n",
        "\n",
        "def loss_function(real, pred):\n",
        "  mask = tf.math.logical_not(tf.math.equal(real, 0))\n",
        "  loss_ = loss_object(real, pred)\n",
        "\n",
        "  mask = tf.cast(mask, dtype=loss_.dtype)\n",
        "  loss_ *= mask\n",
        "\n",
        "  return tf.reduce_mean(loss_)"
      ],
      "execution_count": null,
      "outputs": []
    },
    {
      "cell_type": "markdown",
      "metadata": {
        "id": "DMVWzzsfNl4e"
      },
      "source": [
        "## Checkpoints (Object-based saving)"
      ]
    },
    {
      "cell_type": "code",
      "metadata": {
        "id": "6VuIUgxqNTIf",
        "outputId": "85e0a524-ba85-460b-ffd9-7e62336a0cdd",
        "colab": {
          "base_uri": "https://localhost:8080/",
          "height": 35
        }
      },
      "source": [
        "import os\n",
        "os.getcwd()"
      ],
      "execution_count": null,
      "outputs": [
        {
          "output_type": "execute_result",
          "data": {
            "application/vnd.google.colaboratory.intrinsic+json": {
              "type": "string"
            },
            "text/plain": [
              "'/content'"
            ]
          },
          "metadata": {
            "tags": []
          },
          "execution_count": 76
        }
      ]
    },
    {
      "cell_type": "code",
      "metadata": {
        "id": "Zj8bXQTgNwrF"
      },
      "source": [
        "checkpoint_dir = '/content/drive/My Drive/Data/training_checkpoints'\n",
        "checkpoint_prefix = os.path.join(checkpoint_dir, \"ckpt\")\n",
        "checkpoint = tf.train.Checkpoint(optimizer=optimizer,\n",
        "                                 encoder=encoder,\n",
        "                                 decoder=decoder)"
      ],
      "execution_count": null,
      "outputs": []
    },
    {
      "cell_type": "markdown",
      "metadata": {
        "id": "yNWDwIK0PZVI"
      },
      "source": [
        "## Training\n",
        "\n",
        "1. Pass the *input* through the *encoder* which return *encoder output* and the *encoder hidden state*.\n",
        "2. The encoder output, encoder hidden state and the decoder input (which is the *start token*) is passed to the decoder.\n",
        "3. The decoder returns the *predictions* and the *decoder hidden state*.\n",
        "4. The decoder hidden state is then passed back into the model and the predictions are used to calculate the loss.\n",
        "5. Use *teacher forcing* to decide the next input to the decoder.\n",
        "6. *Teacher forcing* is the technique where the *target word* is passed as the *next input* to the decoder.\n",
        "7. The final step is to calculate the gradients and apply it to the optimizer and backpropagate."
      ]
    },
    {
      "cell_type": "code",
      "metadata": {
        "id": "sC9ArXSsVfqn"
      },
      "source": [
        "@tf.function\n",
        "def train_step(inp, targ, enc_hidden):\n",
        "  loss = 0\n",
        "\n",
        "  with tf.GradientTape() as tape:\n",
        "    enc_output, enc_hidden = encoder(inp, enc_hidden)\n",
        "\n",
        "    dec_hidden = enc_hidden\n",
        "\n",
        "    dec_input = tf.expand_dims([targ_lang.word_index['<start>']] * BATCH_SIZE, 1)\n",
        "\n",
        "    # Teacher forcing - feeding the target as the next input\n",
        "    for t in range(1, targ.shape[1]):\n",
        "      # passing enc_output to the decoder\n",
        "      predictions, dec_hidden, _ = decoder(dec_input, dec_hidden, enc_output)\n",
        "\n",
        "      loss += loss_function(targ[:, t], predictions)\n",
        "\n",
        "      # using teacher forcing\n",
        "      dec_input = tf.expand_dims(targ[:, t], 1)\n",
        "\n",
        "  batch_loss = (loss / int(targ.shape[1]))\n",
        "\n",
        "  variables = encoder.trainable_variables + decoder.trainable_variables\n",
        "\n",
        "  gradients = tape.gradient(loss, variables)\n",
        "\n",
        "  optimizer.apply_gradients(zip(gradients, variables))\n",
        "\n",
        "  return batch_loss"
      ],
      "execution_count": null,
      "outputs": []
    },
    {
      "cell_type": "code",
      "metadata": {
        "id": "EHDqfqUlZRm6",
        "outputId": "990cc26b-1ad9-40a4-fe17-4b24e8bbcb1a",
        "colab": {
          "base_uri": "https://localhost:8080/",
          "height": 1000
        }
      },
      "source": [
        "EPOCHS = 29\n",
        "\n",
        "\n",
        "for epoch in range(EPOCHS):\n",
        "  start = time.time()\n",
        "\n",
        "  enc_hidden = encoder.initialize_hidden_state()\n",
        "  total_loss = 0\n",
        "\n",
        "  for (batch, (inp, targ)) in enumerate(dataset.take(steps_per_epoch)):\n",
        "    batch_loss = train_step(inp, targ, enc_hidden)\n",
        "    total_loss += batch_loss\n",
        "\n",
        "    if batch % 100 == 0:\n",
        "      print('Epoch {} Batch {} Loss {:.4f}'.format(epoch + 1,\n",
        "                                                   batch,\n",
        "                                                   batch_loss.numpy()))\n",
        "  # saving (checkpoint) the model every 2 epochs\n",
        "  if (epoch + 1) % 5 == 0:\n",
        "    checkpoint.save(file_prefix = checkpoint_prefix)\n",
        "\n",
        "  print('Epoch {} Loss {:.4f}'.format(epoch + 1,\n",
        "                                      total_loss / steps_per_epoch))\n",
        "  print('Time taken for 1 epoch {} sec\\n'.format(time.time() - start))"
      ],
      "execution_count": null,
      "outputs": [
        {
          "output_type": "stream",
          "text": [
            "Epoch 1 Batch 0 Loss 1.9905\n",
            "Epoch 1 Batch 100 Loss 1.7621\n",
            "Epoch 1 Loss 1.8875\n",
            "Time taken for 1 epoch 719.2212615013123 sec\n",
            "\n",
            "Epoch 2 Batch 0 Loss 1.7736\n",
            "Epoch 2 Batch 100 Loss 1.3239\n",
            "Epoch 2 Loss 1.5190\n",
            "Time taken for 1 epoch 724.0574946403503 sec\n",
            "\n",
            "Epoch 3 Batch 0 Loss 1.1104\n",
            "Epoch 3 Batch 100 Loss 1.3764\n",
            "Epoch 3 Loss 1.3078\n",
            "Time taken for 1 epoch 726.3984086513519 sec\n",
            "\n",
            "Epoch 4 Batch 0 Loss 1.0803\n",
            "Epoch 4 Batch 100 Loss 0.9809\n",
            "Epoch 4 Loss 1.1435\n",
            "Time taken for 1 epoch 728.3927986621857 sec\n",
            "\n",
            "Epoch 5 Batch 0 Loss 0.8860\n",
            "Epoch 5 Batch 100 Loss 1.1375\n",
            "Epoch 5 Loss 1.0040\n",
            "Time taken for 1 epoch 733.5616323947906 sec\n",
            "\n",
            "Epoch 6 Batch 0 Loss 0.9482\n",
            "Epoch 6 Batch 100 Loss 0.7983\n",
            "Epoch 6 Loss 0.8748\n",
            "Time taken for 1 epoch 728.564147233963 sec\n",
            "\n",
            "Epoch 7 Batch 0 Loss 0.6199\n",
            "Epoch 7 Batch 100 Loss 0.7140\n",
            "Epoch 7 Loss 0.7506\n",
            "Time taken for 1 epoch 726.8015584945679 sec\n",
            "\n",
            "Epoch 8 Batch 0 Loss 0.6675\n",
            "Epoch 8 Batch 100 Loss 0.7154\n",
            "Epoch 8 Loss 0.6333\n",
            "Time taken for 1 epoch 727.0260283946991 sec\n",
            "\n",
            "Epoch 9 Batch 0 Loss 0.4896\n",
            "Epoch 9 Batch 100 Loss 0.5471\n",
            "Epoch 9 Loss 0.5262\n",
            "Time taken for 1 epoch 725.8226599693298 sec\n",
            "\n",
            "Epoch 10 Batch 0 Loss 0.4759\n",
            "Epoch 10 Batch 100 Loss 0.4758\n",
            "Epoch 10 Loss 0.4354\n",
            "Time taken for 1 epoch 734.1536605358124 sec\n",
            "\n",
            "Epoch 11 Batch 0 Loss 0.4111\n",
            "Epoch 11 Batch 100 Loss 0.4097\n",
            "Epoch 11 Loss 0.3620\n",
            "Time taken for 1 epoch 722.9910728931427 sec\n",
            "\n",
            "Epoch 12 Batch 0 Loss 0.2664\n",
            "Epoch 12 Batch 100 Loss 0.2408\n",
            "Epoch 12 Loss 0.3017\n",
            "Time taken for 1 epoch 729.0011892318726 sec\n",
            "\n",
            "Epoch 13 Batch 0 Loss 0.2480\n",
            "Epoch 13 Batch 100 Loss 0.3249\n",
            "Epoch 13 Loss 0.2507\n",
            "Time taken for 1 epoch 724.6416258811951 sec\n",
            "\n",
            "Epoch 14 Batch 0 Loss 0.1902\n",
            "Epoch 14 Batch 100 Loss 0.2132\n",
            "Epoch 14 Loss 0.2102\n",
            "Time taken for 1 epoch 732.4524168968201 sec\n",
            "\n",
            "Epoch 15 Batch 0 Loss 0.1674\n",
            "Epoch 15 Batch 100 Loss 0.1652\n",
            "Epoch 15 Loss 0.1697\n",
            "Time taken for 1 epoch 713.1928434371948 sec\n",
            "\n",
            "Epoch 16 Batch 0 Loss 0.1369\n",
            "Epoch 16 Batch 100 Loss 0.1353\n",
            "Epoch 16 Loss 0.1327\n",
            "Time taken for 1 epoch 716.6565754413605 sec\n",
            "\n",
            "Epoch 17 Batch 0 Loss 0.0816\n",
            "Epoch 17 Batch 100 Loss 0.1270\n",
            "Epoch 17 Loss 0.1054\n",
            "Time taken for 1 epoch 712.6678235530853 sec\n",
            "\n",
            "Epoch 18 Batch 0 Loss 0.0483\n",
            "Epoch 18 Batch 100 Loss 0.0966\n",
            "Epoch 18 Loss 0.0920\n",
            "Time taken for 1 epoch 700.4292550086975 sec\n",
            "\n",
            "Epoch 19 Batch 0 Loss 0.0888\n",
            "Epoch 19 Batch 100 Loss 0.0633\n",
            "Epoch 19 Loss 0.0832\n",
            "Time taken for 1 epoch 704.0475416183472 sec\n",
            "\n",
            "Epoch 20 Batch 0 Loss 0.0436\n",
            "Epoch 20 Batch 100 Loss 0.0545\n",
            "Epoch 20 Loss 0.0609\n",
            "Time taken for 1 epoch 705.5302255153656 sec\n",
            "\n",
            "Epoch 21 Batch 0 Loss 0.0414\n",
            "Epoch 21 Batch 100 Loss 0.0247\n",
            "Epoch 21 Loss 0.0484\n",
            "Time taken for 1 epoch 706.7626428604126 sec\n",
            "\n",
            "Epoch 22 Batch 0 Loss 0.0274\n",
            "Epoch 22 Batch 100 Loss 0.0437\n",
            "Epoch 22 Loss 0.0412\n",
            "Time taken for 1 epoch 711.0911886692047 sec\n",
            "\n",
            "Epoch 23 Batch 0 Loss 0.0288\n",
            "Epoch 23 Batch 100 Loss 0.0654\n",
            "Epoch 23 Loss 0.0372\n",
            "Time taken for 1 epoch 704.4201278686523 sec\n",
            "\n",
            "Epoch 24 Batch 0 Loss 0.0396\n",
            "Epoch 24 Batch 100 Loss 0.0148\n",
            "Epoch 24 Loss 0.0346\n",
            "Time taken for 1 epoch 708.0338459014893 sec\n",
            "\n",
            "Epoch 25 Batch 0 Loss 0.0458\n",
            "Epoch 25 Batch 100 Loss 0.0386\n",
            "Epoch 25 Loss 0.0344\n",
            "Time taken for 1 epoch 711.2920932769775 sec\n",
            "\n",
            "Epoch 26 Batch 0 Loss 0.0154\n",
            "Epoch 26 Batch 100 Loss 0.0396\n",
            "Epoch 26 Loss 0.0343\n",
            "Time taken for 1 epoch 699.0860946178436 sec\n",
            "\n",
            "Epoch 27 Batch 0 Loss 0.0529\n",
            "Epoch 27 Batch 100 Loss 0.0357\n",
            "Epoch 27 Loss 0.0342\n",
            "Time taken for 1 epoch 705.65296459198 sec\n",
            "\n",
            "Epoch 28 Batch 0 Loss 0.0394\n",
            "Epoch 28 Batch 100 Loss 0.0585\n",
            "Epoch 28 Loss 0.0356\n",
            "Time taken for 1 epoch 705.202162027359 sec\n",
            "\n",
            "Epoch 29 Batch 0 Loss 0.0233\n",
            "Epoch 29 Batch 100 Loss 0.0374\n",
            "Epoch 29 Loss 0.0346\n",
            "Time taken for 1 epoch 701.6468839645386 sec\n",
            "\n"
          ],
          "name": "stdout"
        }
      ]
    },
    {
      "cell_type": "markdown",
      "metadata": {
        "id": "Fq88w2zBPkq5"
      },
      "source": [
        "## Translate\n",
        "\n",
        "* The evaluate function is similar to the training loop, except we don't use *teacher forcing* here. The input to the decoder at each time step is its previous predictions along with the hidden state and the encoder output.\n",
        "* Stop predicting when the model predicts the *end token*.\n",
        "* And store the *attention weights for every time step*.\n",
        "\n",
        "Note: The encoder output is calculated only once for one input."
      ]
    },
    {
      "cell_type": "code",
      "metadata": {
        "id": "i4c-lDs0IjwI"
      },
      "source": [
        "def evaluate(sentence):\n",
        "  attention_plot = np.zeros((max_length_targ, max_length_inp))\n",
        "\n",
        "  sentence = preprocess_sentence_twi(sentence)\n",
        "\n",
        "  inputs = [inp_lang.word_index[i] for i in sentence.split(' ')]\n",
        "  inputs = tf.keras.preprocessing.sequence.pad_sequences([inputs],\n",
        "                                                         maxlen=max_length_inp,\n",
        "                                                         padding='post')\n",
        "  inputs = tf.convert_to_tensor(inputs)\n",
        "\n",
        "  result = ''\n",
        "\n",
        "  hidden = [tf.zeros((1, units))]\n",
        "  enc_out, enc_hidden = encoder(inputs, hidden)\n",
        "\n",
        "  dec_hidden = enc_hidden\n",
        "  dec_input = tf.expand_dims([targ_lang.word_index['<start>']], 0)\n",
        "\n",
        "  for t in range(max_length_targ):\n",
        "    predictions, dec_hidden, attention_weights = decoder(dec_input,\n",
        "                                                         dec_hidden,\n",
        "                                                         enc_out)\n",
        "\n",
        "    # storing the attention weights to plot later on\n",
        "    attention_weights = tf.reshape(attention_weights, (-1, ))\n",
        "    attention_plot[t] = attention_weights.numpy()\n",
        "\n",
        "    predicted_id = tf.argmax(predictions[0]).numpy()\n",
        "\n",
        "    result += targ_lang.index_word[predicted_id] + ' '\n",
        "\n",
        "    if targ_lang.index_word[predicted_id] == '<end>':\n",
        "      return result, sentence, attention_plot\n",
        "\n",
        "    # the predicted ID is fed back into the model\n",
        "    dec_input = tf.expand_dims([predicted_id], 0)\n",
        "\n",
        "  return result, sentence, attention_plot"
      ],
      "execution_count": null,
      "outputs": []
    },
    {
      "cell_type": "code",
      "metadata": {
        "id": "DxaMk7N3IuZ7"
      },
      "source": [
        "# function for plotting the attention weights\n",
        "def plot_attention(attention, sentence, predicted_sentence):\n",
        "  fig = plt.figure(figsize=(10,10))\n",
        "  ax = fig.add_subplot(1, 1, 1)\n",
        "  ax.matshow(attention, cmap='viridis')\n",
        "\n",
        "  fontdict = {'fontsize': 14}\n",
        "\n",
        "  ax.set_xticklabels([''] + sentence, fontdict=fontdict, rotation=90)\n",
        "  ax.set_yticklabels([''] + predicted_sentence, fontdict=fontdict)\n",
        "\n",
        "  ax.xaxis.set_major_locator(ticker.MultipleLocator(1))\n",
        "  ax.yaxis.set_major_locator(ticker.MultipleLocator(1))\n",
        "\n",
        "  plt.show()"
      ],
      "execution_count": null,
      "outputs": []
    },
    {
      "cell_type": "code",
      "metadata": {
        "id": "oXwbKr-A2J6U",
        "outputId": "193d18f7-45bc-4237-c1c5-c50bda31a1ba",
        "colab": {
          "base_uri": "https://localhost:8080/",
          "height": 35
        }
      },
      "source": [
        "#Twi_data[0:5] #\n",
        "#d.shape\n",
        "d.iloc[20000,0]\n",
        "re.sub(r\"<start> | <end>\", r\" \", d.iloc[20000,1])"
      ],
      "execution_count": null,
      "outputs": [
        {
          "output_type": "execute_result",
          "data": {
            "application/vnd.google.colaboratory.intrinsic+json": {
              "type": "string"
            },
            "text/plain": [
              "' will there be survivors ? '"
            ]
          },
          "metadata": {
            "tags": []
          },
          "execution_count": 89
        }
      ]
    },
    {
      "cell_type": "code",
      "metadata": {
        "id": "L5lwWOXV3LAx"
      },
      "source": [
        ""
      ],
      "execution_count": null,
      "outputs": []
    },
    {
      "cell_type": "code",
      "metadata": {
        "id": "aaWA4nT3IuU1"
      },
      "source": [
        "def translate(sentence,actual):\n",
        "  result, sentence, attention_plot = evaluate(sentence)\n",
        "   \n",
        "  print('Input: %s' % (sentence))\n",
        "  print('Predicted translation: {}'.format(result))\n",
        "  print('Actual translation: {}'.format(actual))\n",
        "\n",
        "  attention_plot = attention_plot[:len(result.split(' ')), :len(sentence.split(' '))]\n",
        "  plot_attention(attention_plot, sentence.split(' '), result.split(' '))"
      ],
      "execution_count": null,
      "outputs": []
    },
    {
      "cell_type": "markdown",
      "metadata": {
        "id": "HzdEDRXqI1m9"
      },
      "source": [
        "### Restore the latest checkpoint and test"
      ]
    },
    {
      "cell_type": "code",
      "metadata": {
        "id": "gfHPjb9pI8JE",
        "outputId": "03bd0b17-4115-48c4-8874-88051d6032bc",
        "colab": {
          "base_uri": "https://localhost:8080/",
          "height": 34
        }
      },
      "source": [
        "# restoring the latest checkpoint in checkpoint_dir\n",
        "checkpoint.restore(tf.train.latest_checkpoint(checkpoint_dir))"
      ],
      "execution_count": null,
      "outputs": [
        {
          "output_type": "execute_result",
          "data": {
            "text/plain": [
              "<tensorflow.python.training.tracking.util.InitializationOnlyStatus at 0x7f3b50a145c0>"
            ]
          },
          "metadata": {
            "tags": []
          },
          "execution_count": 87
        }
      ]
    },
    {
      "cell_type": "code",
      "metadata": {
        "id": "YN7WQ41cBfm0",
        "outputId": "445ab62c-ebd3-44d5-d5a5-0bdc2e3ea30d",
        "colab": {
          "base_uri": "https://localhost:8080/",
          "height": 153
        }
      },
      "source": [
        "!ls '/content/drive/My Drive'"
      ],
      "execution_count": null,
      "outputs": [
        {
          "output_type": "stream",
          "text": [
            "'Colab Notebooks'\t       ImbalancedData\n",
            " cp.ckpt.data-00000-of-00001   NaturalLanguageProcessing\n",
            " Data\t\t\t       Photos.zip\n",
            " documents\t\t       pictures\n",
            " foo.txt\t\t       profilingReport2.html\n",
            "'GE (1).csv'\t\t      'Sample upload.txt'\n",
            " GE.csv\t\t\t      'To-do list.gsheet'\n",
            "'Getting started.pdf'\n"
          ],
          "name": "stdout"
        }
      ]
    },
    {
      "cell_type": "code",
      "metadata": {
        "id": "2TkOu5noAuiN"
      },
      "source": [
        "#manager = tf.train.CheckpointManager(ckpt, './tf_ckpts', max_to_keep=3)\n",
        "\n",
        "#train_and_checkpoint(net, manager)"
      ],
      "execution_count": null,
      "outputs": []
    },
    {
      "cell_type": "code",
      "metadata": {
        "id": "MGWtALHX20sS",
        "outputId": "7f2be085-fca4-45d8-99fc-9353154fbcf9",
        "colab": {
          "base_uri": "https://localhost:8080/",
          "height": 709
        }
      },
      "source": [
        "actual = re.sub(r\"<start> | <end>\", r\" \", d.iloc[20000,0])\n",
        "print(re.sub(r\"<start> | <end>\", r\" \", d.iloc[20000,0]))\n",
        "translate(u' eyi haw me papa . ',actual)"
      ],
      "execution_count": null,
      "outputs": [
        {
          "output_type": "stream",
          "text": [
            " will there be survivors ? \n",
            "Input: <start> eyi haw me papa . <end>\n",
            "Predicted translation: heritage thrown else prayer silent sacrifice watch scientists copy commendation flirting headgear \n",
            "Actual translation:  will there be survivors ? \n"
          ],
          "name": "stdout"
        },
        {
          "output_type": "display_data",
          "data": {
            "image/png": "[encoded data removed]",
            "text/plain": [
              "<Figure size 720x720 with 1 Axes>"
            ]
          },
          "metadata": {
            "tags": [],
            "needs_background": "light"
          }
        }
      ]
    },
    {
      "cell_type": "code",
      "metadata": {
        "id": "BGZi9OUdI91j",
        "outputId": "a64a7b4d-9caf-49d2-ac81-3f011c142f55",
        "colab": {
          "base_uri": "https://localhost:8080/",
          "height": 1000
        }
      },
      "source": [
        "translate(u' ɔkae sɛ momma mo bo ntɔ mo yam ! ')\n",
        "translate(u' eyi haw me papa . ')"
      ],
      "execution_count": null,
      "outputs": [
        {
          "output_type": "stream",
          "text": [
            "Input: <start> ɔkae sɛ momma mo bo ntɔ mo yam ! <end>\n",
            "Predicted translation: molecule fired reunited animal begins nests grandma molecule fired reunited animal begins \n"
          ],
          "name": "stdout"
        },
        {
          "output_type": "display_data",
          "data": {
            "image/png": "[encoded data removed]",
            "text/plain": [
              "<Figure size 720x720 with 1 Axes>"
            ]
          },
          "metadata": {
            "tags": [],
            "needs_background": "light"
          }
        },
        {
          "output_type": "stream",
          "text": [
            "Input: <start> eyi haw me papa . <end>\n",
            "Predicted translation: molecule fired reunited animal begins nests ball bathtub marathon fired reunited animal \n"
          ],
          "name": "stdout"
        },
        {
          "output_type": "display_data",
          "data": {
            "image/png": "[encoded data removed]",
            "text/plain": [
              "<Figure size 720x720 with 1 Axes>"
            ]
          },
          "metadata": {
            "tags": [],
            "needs_background": "light"
          }
        }
      ]
    }
  ]
}